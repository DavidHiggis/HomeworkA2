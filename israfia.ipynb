{
 "cells": [
  {
   "cell_type": "code",
   "execution_count": null,
   "metadata": {},
   "outputs": [],
   "source": [
    "!unzip /notebooks/storage/ergn8P.zip -d /notebooks\n",
    "!apt-get update\n",
    "!apt-get install -y libsm6 libxext6 libxrender-dev\n",
    "!apt-get install -y ffmpeg\n",
    "!pip install opencv-python\n",
    "!pip install requests"
   ]
  },
  {
   "cell_type": "markdown",
   "metadata": {
    "colab_type": "text",
    "id": "cB6gHrlOIZ7B"
   },
   "source": [
    "# Nhatai"
   ]
  },
  {
   "cell_type": "code",
   "execution_count": 1,
   "metadata": {
    "colab": {
     "base_uri": "https://localhost:8080/",
     "height": 34
    },
    "colab_type": "code",
    "executionInfo": {
     "elapsed": 5353,
     "status": "ok",
     "timestamp": 1582555777919,
     "user": {
      "displayName": "lamraq ituki8",
      "photoUrl": "",
      "userId": "07547115291483367303"
     },
     "user_tz": -480
    },
    "id": "uJVCLSHZIdrt",
    "outputId": "9c8923c9-38ae-41a8-b3ff-7f5f916458e0"
   },
   "outputs": [
    {
     "name": "stdout",
     "output_type": "stream",
     "text": [
      "/notebooks\n",
      "init_finj\n"
     ]
    }
   ],
   "source": [
    "%cd /notebooks\n",
    "import sys\n",
    "import os.path\n",
    "import glob\n",
    "import re\n",
    "import cv2\n",
    "from PIL import Image, ImageDraw, ImageFont\n",
    "import requests\n",
    "import shutil\n",
    "import numpy as np\n",
    "import torch\n",
    "import architecture as arch\n",
    "\n",
    "\n",
    "wrkfol = '/wrk'\n",
    "encfol = '/enc'\n",
    "bigrange = range(1,2000)\n",
    "\n",
    "font = ImageFont.truetype(font='/notebooks/LiberationMono-Bold.ttf', size=90)\n",
    "xyf = (720, 5)\n",
    "\n",
    "cropTRS = 500000\n",
    "\n",
    "def mkENCimg(grp,idx):\n",
    "  tmp = np.zeros((2160,1,3), np.uint8)\n",
    "  for ig in grp:\n",
    "    tmp = np.hstack((ig,tmp))\n",
    "\n",
    "  rx = 3840-tmp.shape[1]\n",
    "\n",
    "  if rx > 0:\n",
    "    talli = np.zeros((2160,rx,3), np.uint8)\n",
    "    tmp = np.hstack((tmp,talli))\n",
    "    cv2.imwrite('/enc/%05d.png' % idx, tmp)\n",
    "\n",
    "  else:\n",
    "    print('bugRX='+str(rx))\n",
    "\n",
    "\n",
    "def stig(liss,paII):\n",
    "  frmcot = len(liss)\n",
    "  pHT = Image.new('RGB', (2160, 100), (0, 0, 0))\n",
    "  draw = ImageDraw.Draw(pHT)\n",
    "  draw.text(xy=xyf, text=paII+'----'+str(frmcot), fill=(255,255,255),font = font)\n",
    "  HT = np.rot90(np.array(pHT.getdata()).reshape(pHT.size[1], pHT.size[0],3),3)\n",
    "\n",
    "  imcache=[]\n",
    "  imcache.append(HT)\n",
    "  pewrkfol = wrkfol+'/'\n",
    "  for fi in liss:\n",
    "    imcache.append(cv2.imread(pewrkfol+fi[:-3]+'png'))\n",
    "\n",
    "  imcache.append(HT)\n",
    "\n",
    "  encnu = 1\n",
    "  wcoting = 0\n",
    "  tmpgrp = []\n",
    "  for ig in imcache:\n",
    "    if(wcoting < 3840):\n",
    "      tmpgrp.append(ig)\n",
    "      wcoting+=ig.shape[1]\n",
    "    else:\n",
    "      kyp = tmpgrp[-1]\n",
    "      tmpgrp = tmpgrp[:-1]\n",
    "      mkENCimg(tmpgrp,encnu)\n",
    "      tmpgrp = []\n",
    "      tmpgrp.append(kyp)\n",
    "      tmpgrp.append(ig)\n",
    "      wcoting = kyp.shape[1]+ig.shape[1]\n",
    "\n",
    "      encnu+=1\n",
    "\n",
    "  mkENCimg(tmpgrp,encnu)\n",
    "\n",
    "  tmpgrp = []\n",
    "  imcache = []\n",
    "\n",
    "  print('Aenc'+paII+' !!   '+str(frmcot))\n",
    "  !ffmpeg -v quiet -framerate 1 -i /enc/%05d.png -c:v libx264 -crf 30 -pix_fmt yuv420p '/notebooks/storage/mking.mkv'\n",
    "  shutil.move('/notebooks/storage/mking.mkv','/notebooks/storage/'+paII+'_'+str(encnu)+'.tar')\n",
    "  print('Benc'+paII+'___END___')\n",
    "\n",
    "  \n",
    "\n",
    "\n",
    "\n",
    "\n",
    "def downloadd(url,fnam):\n",
    "  response = requests.get(url, stream=True)\n",
    "  if response.status_code == 200:\n",
    "    with open(wrkfol+fnam, 'wb') as file:\n",
    "      shutil.copyfileobj(response.raw, file)\n",
    "    return 1\n",
    "  else:\n",
    "    return 0\n",
    "\n",
    "def EHenty(paInt):\n",
    "  \n",
    "  shutil.rmtree(encfol, ignore_errors=True)\n",
    "  !mkdir {encfol}\n",
    "\n",
    "  \n",
    "  shutil.rmtree(wrkfol, ignore_errors=True)\n",
    "  !mkdir {wrkfol}\n",
    "  erra = 0\n",
    "  ppath = 'https://t.nhentai.net/galleries/'+paInt+'/%dt.jpg'\n",
    "  for i in bigrange:\n",
    "    if downloadd(ppath % i,'/%05d.jpg' % i) == 0:\n",
    "      erra+=1\n",
    "      if erra > 5:\n",
    "        break\n",
    "  \n",
    "  \n",
    "  flist = os.listdir(wrkfol)\n",
    "  flist.sort()\n",
    "  frmcot = len(flist)\n",
    "\n",
    "  if frmcot == 0:\n",
    "        return\n",
    "\n",
    "  suuti = '%05d.jpg' % frmcot\n",
    "  if suuti != flist[-1]:\n",
    "    print('somErr? '+paInt+' \\nGet='+suuti+' \\nReal='+flist[-1])\n",
    "    \n",
    "  \n",
    "  pewrkfol = wrkfol+'/'\n",
    "  for fi in flist:\n",
    "    #print(fi)\n",
    "    to2160(pewrkfol+fi)\n",
    "\n",
    "  stig(flist,paInt)\n",
    "\n",
    "\n",
    "\n",
    "  #!ffmpeg -framerate 6 -i {pewrkfol}%05d.png -c:v libx264 -crf 0 -pix_fmt yuv420p '/content/drive/My Drive/ocr/{paInt}_{frmcot}.mkv'\n",
    "  \n",
    "\n",
    "    \n",
    "\n",
    "\n",
    "\n",
    "def mkESRGAN(model_path,scale):\n",
    "\n",
    "  if not os.path.isfile(model_path):\n",
    "    model_path = 'storage/'+model_path+'.pth'\n",
    "\n",
    "  \n",
    "  model = arch.RRDB_Net(3, 3, 64, 23, gc=32, upscale=scale, norm_type=None, act_type='leakyrelu', \\\n",
    "                        mode='CNA', res_scale=1, upsample_mode='upconv')\n",
    "  model.load_state_dict(torch.load(model_path), strict=True)\n",
    "  model.eval()\n",
    "  for k, v in model.named_parameters():\n",
    "      v.requires_grad = False\n",
    "  return model\n",
    "\n",
    "\n",
    "def compute_edges(imgB):\n",
    "    image = ((imgB[0]+imgB[1]+imgB[2])*85).astype(np.uint8)\n",
    "    _,image = cv2.threshold(image,0,255,cv2.THRESH_OTSU)\n",
    "    sobel_x = cv2.Sobel(image, cv2.CV_64F, 1, 0)\n",
    "    sobel_x = np.uint8(np.absolute(sobel_x))\n",
    "    sobel_y = cv2.Sobel(image, cv2.CV_64F, 0, 1)\n",
    "    sobel_y = np.uint8(np.absolute(sobel_y))\n",
    "    edged =   cv2.bitwise_or(sobel_x, sobel_y)\n",
    "    \n",
    "    return edged    \n",
    "\n",
    "def AutoCrop(imgB):\n",
    "    edged = compute_edges(imgB)\n",
    "   \n",
    "    LLy = edged.shape[0]\n",
    "    LLx = edged.shape[1]\n",
    "\n",
    "    \n",
    "\n",
    "    btest = 6\n",
    "    while btest < LLy:\n",
    "      if np.sum(edged[btest,6:-7]) > 0:\n",
    "        break\n",
    "      btest+=1\n",
    "    \n",
    "    if btest == 6:\n",
    "        cropUP = btest-6\n",
    "    else:\n",
    "        cropUP = btest\n",
    "\n",
    "\n",
    "\n",
    "    btest = 7\n",
    "    while btest < LLy:\n",
    "      if np.sum(edged[LLy-btest,6:-7]) > 0:\n",
    "        break\n",
    "      btest+=1\n",
    "    \n",
    "    if btest == 7:\n",
    "        cropDown = LLy+7-btest\n",
    "    else:\n",
    "        cropDown = LLy+1-btest\n",
    "\n",
    "    btest = 6\n",
    "    while btest < LLx:\n",
    "      if np.sum(edged[6:-7,btest]) > 0:\n",
    "        break\n",
    "      btest+=1\n",
    "    cropLeft = btest-6\n",
    "\n",
    "\n",
    "    btest = 7\n",
    "    while btest < LLx:\n",
    "      if np.sum(edged[6:-7,LLx-btest]) > 0:\n",
    "        break\n",
    "      btest+=1\n",
    "    cropRight = LLx+7-btest\n",
    "    \n",
    "    \n",
    "    \n",
    "    if (abs(cropDown-cropUP)*(cropRight-cropLeft))/(LLy*LLx) > 0.3:\n",
    "      return imgB[:,cropUP:cropDown, cropLeft:cropRight]\n",
    "    else:\n",
    "      return imgB\n",
    "\n",
    "    \n",
    "\n",
    "\n",
    "def hight2160(innp):\n",
    "  h = innp.shape[0]\n",
    "  w = innp.shape[1]\n",
    "  ratyo = 2160/h\n",
    "  sgayla = (int(w*ratyo),2160)\n",
    "  \n",
    "  if ratyo > 1:\n",
    "    print('LARGEE===='+str(h))\n",
    "    return cv2.resize(innp,sgayla, interpolation=cv2.INTER_CUBIC)\n",
    "  elif ratyo <1:\n",
    "    return cv2.resize(innp,sgayla, interpolation=cv2.INTER_AREA)\n",
    "  else:\n",
    "    return innp\n",
    "  \n",
    "\n",
    "def to2160(pathp):\n",
    "  img = cv2.imread(pathp, cv2.IMREAD_COLOR).astype(np.float32)\n",
    "  img = img / 255.0\n",
    "  img = torch.from_numpy(np.transpose(img[:, :, [2, 1, 0]], (2, 0, 1)))\n",
    "  img_LR = img.unsqueeze(0)\n",
    "  img_LR = img_LR.to(device)\n",
    "\n",
    "  ot1 = model_1st(img_LR).data.squeeze().cpu().numpy()\n",
    "\n",
    "  #crop\n",
    "  ot1 = AutoCrop(ot1)\n",
    "  #crop\n",
    "\n",
    "  x2w = ot1.shape[1]\n",
    "  x2h = ot1.shape[2]\n",
    "\n",
    "  rati = 350000.1/(x2w*x2h)\n",
    "\n",
    "  if rati < 1:\n",
    "    rati = rati ** 0.5\n",
    "    x2w *= rati\n",
    "    x2h *= rati\n",
    "    sgayla = (int(x2h),int(x2w))\n",
    "\n",
    "    rotA = cv2.resize(ot1[0],sgayla, interpolation=cv2.INTER_AREA)\n",
    "    rotB = cv2.resize(ot1[1],sgayla, interpolation=cv2.INTER_AREA)\n",
    "    rotC = cv2.resize(ot1[2],sgayla, interpolation=cv2.INTER_AREA)\n",
    "    ot1 = np.asarray([rotA,rotB,rotC])\n",
    "\n",
    "  if x2w<x2h:\n",
    "    ot1 = np.asarray([ np.rot90(ot1[0]),np.rot90(ot1[1]),np.rot90(ot1[2])])\n",
    "\n",
    "\n",
    "  img = torch.from_numpy(ot1)\n",
    "  img_LR = img.unsqueeze(0)\n",
    "  img_LR = img_LR.to(device)\n",
    "\n",
    "  output = model_2nd(img_LR).data.squeeze().cpu().numpy()\n",
    "  output = np.transpose(output[[2, 1, 0], :, :], (1, 2, 0))\n",
    "\n",
    "  output = hight2160(output)\n",
    "\n",
    "  output = (output * 255.0).round().clip(0,255.0)\n",
    "  cv2.imwrite(pathp[:-3]+'png', output)\n",
    "\n",
    "def countMKVz(pafol):\n",
    "  flisz = os.listdir(pafol)\n",
    "  flisz += os.listdir(pafol+'/big')\n",
    "  mkvlis = []\n",
    "  tiecot = 0\n",
    "  for fi in flisz:\n",
    "    if fi.endswith(\".tar\"):\n",
    "      mkvlis.append(fi)\n",
    "      dimm = re.split('\\_|\\.',fi)\n",
    "      tiecot+=int(dimm[1])\n",
    "\n",
    "  return len(mkvlis), tiecot\n",
    "\n",
    "  \n",
    "\n",
    "\n",
    "\n",
    "###\n",
    "device = torch.device('cuda')\n",
    "model_1st =  mkESRGAN('FatalimiX',4).to(device)\n",
    "model_2nd =  mkESRGAN('falcoon300',4).to(device)\n",
    "###\n",
    "\n",
    "is400 = False\n",
    "isOldCrop = False\n",
    "\n",
    "print('init_fin')"
   ]
  },
  {
   "cell_type": "code",
   "execution_count": null,
   "metadata": {
    "colab": {
     "base_uri": "https://localhost:8080/",
     "height": 1000
    },
    "colab_type": "code",
    "executionInfo": {
     "elapsed": 17274762,
     "status": "ok",
     "timestamp": 1582443721961,
     "user": {
      "displayName": "lamraq ituki",
      "photoUrl": "",
      "userId": "07547115291483367303"
     },
     "user_tz": -480
    },
    "id": "unfTNDnojPb0",
    "outputId": "aefcbcb5-c5b3-40b0-f853-fd9fe5adbb4b",
    "scrolled": false
   },
   "outputs": [
    {
     "name": "stdout",
     "output_type": "stream",
     "text": [
      "False\n",
      "Aenc7004 !!   30\n",
      "Benc7004___END___\n",
      "Aenc7006 !!   26\n",
      "Benc7006___END___\n",
      "Aenc7007 !!   23\n",
      "Benc7007___END___\n",
      "Aenc7008 !!   74\n",
      "Benc7008___END___\n",
      "Aenc7010 !!   58\n",
      "Benc7010___END___\n",
      "Aenc7011 !!   58\n",
      "Benc7011___END___\n",
      "Aenc7012 !!   54\n",
      "Benc7012___END___\n",
      "Aenc7014 !!   14\n",
      "Benc7014___END___\n",
      "Aenc7015 !!   38\n",
      "Benc7015___END___\n",
      "Aenc7016 !!   38\n",
      "Benc7016___END___\n"
     ]
    }
   ],
   "source": [
    "print(is400)\n",
    "\n",
    "\n",
    "with open('/notebooks/!wkp.txt') as f:\n",
    "    banki = f.readlines()\n",
    "banki = [x.strip() for x in banki]\n",
    "\n",
    "for bbaa in banki:\n",
    "  EHenty(bbaa)\n",
    "  if os.path.exists('/notebooks/stopp'):\n",
    "    break\n",
    "\n",
    "print('!!!fin!!!')\n",
    "#4320"
   ]
  },
  {
   "cell_type": "code",
   "execution_count": null,
   "metadata": {
    "colab": {
     "base_uri": "https://localhost:8080/",
     "height": 34
    },
    "colab_type": "code",
    "executionInfo": {
     "elapsed": 2038,
     "status": "ok",
     "timestamp": 1582286510005,
     "user": {
      "displayName": "lamraq ituki",
      "photoUrl": "",
      "userId": "07547115291483367303"
     },
     "user_tz": -480
    },
    "id": "_0Wvv9jg-vSX",
    "outputId": "7937e8bb-cb99-4567-bcf3-660767e6e673"
   },
   "outputs": [],
   "source": [
    "print(countMKVz('/content/drive/My Drive/ocr/eh'))\n",
    "#2700"
   ]
  },
  {
   "cell_type": "code",
   "execution_count": null,
   "metadata": {
    "colab": {
     "base_uri": "https://localhost:8080/",
     "height": 34
    },
    "colab_type": "code",
    "executionInfo": {
     "elapsed": 774,
     "status": "ok",
     "timestamp": 1582217088772,
     "user": {
      "displayName": "lamraq ituki",
      "photoUrl": "",
      "userId": "07547115291483367303"
     },
     "user_tz": -480
    },
    "id": "hE9JYyVyUfT9",
    "outputId": "fdedb6ab-85a4-4e04-9617-622108207a27"
   },
   "outputs": [],
   "source": [
    "print('temp= '+str(countMKVz('/content/drive/My Drive/ocr/eh')))"
   ]
  },
  {
   "cell_type": "code",
   "execution_count": null,
   "metadata": {
    "colab": {},
    "colab_type": "code",
    "id": "8sSxo4IUVk22"
   },
   "outputs": [],
   "source": [
    "\n",
    "mkvparr = '/content/drive/My Drive/ocr/eh'\n",
    "flist = os.listdir(mkvparr)\n",
    "flist.sort()\n",
    "for fi in flist:\n",
    "  files.download(mkvparr+'/'+fi)\n",
    "  #aao = input()"
   ]
  },
  {
   "cell_type": "markdown",
   "metadata": {
    "colab_type": "text",
    "id": "0_O906dStLrE"
   },
   "source": [
    "\n",
    "# for400"
   ]
  },
  {
   "cell_type": "code",
   "execution_count": 2,
   "metadata": {
    "colab": {},
    "colab_type": "code",
    "id": "U3py8CpYtPfi"
   },
   "outputs": [
    {
     "name": "stdout",
     "output_type": "stream",
     "text": [
      "!!!to400!!!\n"
     ]
    }
   ],
   "source": [
    "\n",
    "is400 = True\n",
    "\n",
    "\n",
    "'''\n",
    "def to2160yoko(path):\n",
    "  img = cv2.imread(path, cv2.IMREAD_COLOR).astype(np.float32)\n",
    "  img = img / 255.0\n",
    "  img = torch.from_numpy(np.transpose(img[:, :, [2, 1, 0]], (2, 0, 1)))\n",
    "  img_LR = img.unsqueeze(0)\n",
    "  img_LR = img_LR.to(device)\n",
    "\n",
    "  ot1 = model_1st(img_LR).data.squeeze().cpu().numpy()\n",
    "\n",
    "  #crop\n",
    "  ot1 = AutoCrop(ot1)\n",
    "  #crop\n",
    "\n",
    "  x2w = ot1.shape[1]\n",
    "  x2h = ot1.shape[2]\n",
    "\n",
    "  rati = 600000.1/(x2w*x2h)\n",
    "\n",
    "  if rati < 1:\n",
    "    rati = rati ** 0.5\n",
    "    x2w *= rati\n",
    "    x2h *= rati\n",
    "    sgayla = (int(x2h),int(x2w))\n",
    "\n",
    "    rotA = cv2.resize(ot1[0],sgayla, interpolation=cv2.INTER_AREA)\n",
    "    rotB = cv2.resize(ot1[1],sgayla, interpolation=cv2.INTER_AREA)\n",
    "    rotC = cv2.resize(ot1[2],sgayla, interpolation=cv2.INTER_AREA)\n",
    "    ot1 = np.asarray([rotA,rotB,rotC])\n",
    "\n",
    "  if x2w>x2h:\n",
    "    ot1 = np.asarray([ np.rot90(ot1[0],3),np.rot90(ot1[1],3),np.rot90(ot1[2],3)])\n",
    "\n",
    "\n",
    "  img = torch.from_numpy(ot1)\n",
    "  img_LR = img.unsqueeze(0)\n",
    "  img_LR = img_LR.to(device)\n",
    "\n",
    "  output = model_2nd(img_LR).data.squeeze().cpu().numpy()\n",
    "  output = np.transpose(output[[2, 1, 0], :, :], (1, 2, 0))\n",
    "\n",
    "  output = resizeAndPad(output,(2160,3840))\n",
    "\n",
    "  output = (output * 255.0).round().clip(0,255.0)\n",
    "  cv2.imwrite(path[:-3]+'png', output)\n",
    "\n",
    "'''\n",
    "\n",
    "def to2160(pathp):\n",
    "  img = cv2.imread(pathp, cv2.IMREAD_COLOR).astype(np.float32)\n",
    "  img = img / 255.0\n",
    "  img = torch.from_numpy(np.transpose(img[:, :, [2, 1, 0]], (2, 0, 1)))\n",
    "  img_LR = img.unsqueeze(0)\n",
    "  img_LR = img_LR.to(device)\n",
    "\n",
    "  ot1 = model_1st(img_LR).data.squeeze().cpu().numpy()\n",
    "\n",
    "  #crop\n",
    "  ot1 = AutoCrop(ot1)\n",
    "  #crop\n",
    "\n",
    "  x2w = ot1.shape[1]\n",
    "  x2h = ot1.shape[2]\n",
    "\n",
    "\n",
    "  if x2w<x2h:\n",
    "    ot1 = np.asarray([ np.rot90(ot1[0]),np.rot90(ot1[1]),np.rot90(ot1[2])])\n",
    "\n",
    "\n",
    "  \n",
    "\n",
    "  output = ot1\n",
    "  output = np.transpose(output[[2, 1, 0], :, :], (1, 2, 0))\n",
    "\n",
    "  output = hight2160(output)\n",
    "\n",
    "  output = (output * 255.0).round().clip(0,255.0)\n",
    "  cv2.imwrite(pathp[:-3]+'png', output)\n",
    "    \n",
    "    \n",
    "print('!!!to400!!!')"
   ]
  },
  {
   "cell_type": "code",
   "execution_count": null,
   "metadata": {
    "colab": {},
    "colab_type": "code",
    "id": "ILkEDBIC-to2"
   },
   "outputs": [],
   "source": [
    "isOldCrop = True\n",
    "\n",
    "def AutoCrop(imgB):\n",
    "  avaii = ((imgB[0]+imgB[1]+imgB[2])*85).astype(np.uint8)\n",
    "  thega,b = cv2.threshold(avaii,0,255,cv2.THRESH_BINARY)\n",
    "  #display(Image.fromarray(b))\n",
    "\n",
    "  x=b.shape[1]\n",
    "  y=b.shape[0]\n",
    "  edges_x=[]\n",
    "  edges_y=[]\n",
    "  for j in range(y):\n",
    "    for i in range(x):\n",
    "      if b[j][i]==0:\n",
    "        edges_x.append(i)\n",
    "        edges_y.append(j)\n",
    "\n",
    "\n",
    "  if (len(edges_x) == 0) or (len(edges_y) == 0):\n",
    "    return imgB\n",
    "\n",
    "  left=min(edges_x)               #左边界\n",
    "  right=max(edges_x)              #右边界\n",
    "  width=right-left                #宽度\n",
    "  bottom=min(edges_y)             #底部\n",
    "  top=max(edges_y)                #顶部\n",
    "  height=top-bottom               #高度\n",
    "\n",
    "  \n",
    "\n",
    "  if height*width > 500000:\n",
    "    return imgB[:,bottom:top,left:right]\n",
    "  else:\n",
    "    return imgB\n",
    "\n",
    "  #display(Image.fromarray((reita[0]*255.0).astype(np.uint8)))\n",
    "\n",
    "  #print((left,right,width,bottom,top,height))\n"
   ]
  },
  {
   "cell_type": "markdown",
   "metadata": {
    "colab_type": "text",
    "id": "RtWMIT0IPysE"
   },
   "source": [
    "# temptool"
   ]
  },
  {
   "cell_type": "code",
   "execution_count": null,
   "metadata": {
    "colab": {},
    "colab_type": "code",
    "id": "vwinZh45JQ74"
   },
   "outputs": [],
   "source": [
    "EHenty('1546591')\n",
    "#to2160('/wrk/00002.jpg')"
   ]
  },
  {
   "cell_type": "code",
   "execution_count": null,
   "metadata": {
    "colab": {
     "base_uri": "https://localhost:8080/",
     "height": 34
    },
    "colab_type": "code",
    "executionInfo": {
     "elapsed": 1332,
     "status": "ok",
     "timestamp": 1582370324503,
     "user": {
      "displayName": "lamraq ituki",
      "photoUrl": "",
      "userId": "07547115291483367303"
     },
     "user_tz": -480
    },
    "id": "dH3iJ3TznecN",
    "outputId": "3a70af2c-3d5f-4c87-cdab-b47940f7dcb5"
   },
   "outputs": [],
   "source": [
    "shutil.move('/mking.mkv','/notebooks/zkeep/476_8.tar')"
   ]
  },
  {
   "cell_type": "code",
   "execution_count": null,
   "metadata": {
    "colab": {},
    "colab_type": "code",
    "id": "7u1kAnLtQTii"
   },
   "outputs": [],
   "source": [
    "!unzip /content/44.zip"
   ]
  },
  {
   "cell_type": "code",
   "execution_count": null,
   "metadata": {
    "colab": {},
    "colab_type": "code",
    "id": "Gn3vZCWTOJWy"
   },
   "outputs": [],
   "source": [
    "!ffmpeg -framerate 6 -i /content/wrk/%05d.png -c:v libx264 -crf 0 -pix_fmt yuv420p '/content/drive/My Drive/ocr/cff420.mkv'"
   ]
  },
  {
   "cell_type": "code",
   "execution_count": null,
   "metadata": {
    "colab": {},
    "colab_type": "code",
    "id": "kyl2G_0Fgig1"
   },
   "outputs": [],
   "source": [
    "!ffmpeg -framerate 1 -i /content/enc/%05d.png -c:v libx264 -crf 30 -pix_fmt yuv420p '/content/wkp.mkv'"
   ]
  },
  {
   "cell_type": "code",
   "execution_count": null,
   "metadata": {
    "colab": {},
    "colab_type": "code",
    "id": "aLrpcjns2n1f"
   },
   "outputs": [],
   "source": [
    "shutil.rmtree('/enc')\n",
    "shutil.rmtree('/wrk')\n",
    "'''\n",
    "ffs = os.listdir('/content/wrk')\n",
    "for filef in ffs:\n",
    "  if filef.endswith('.png'):\n",
    "    os.remove('/content/wrk/'+filef)\n",
    "'''"
   ]
  },
  {
   "cell_type": "code",
   "execution_count": null,
   "metadata": {
    "colab": {},
    "colab_type": "code",
    "id": "oSVDl2rmkkhh"
   },
   "outputs": [],
   "source": [
    "for fi in os.listdir('/usr/share/fonts/truetype/liberation'):\n",
    "  print(fi)"
   ]
  },
  {
   "cell_type": "code",
   "execution_count": null,
   "metadata": {
    "colab": {},
    "colab_type": "code",
    "id": "0m7IB47YrcMI"
   },
   "outputs": [],
   "source": [
    "#!zip -r /notebooks/file.zip /wrk\n",
    "\n",
    "xflist = os.listdir(wrkfol)\n",
    "xflist.sort()\n",
    "\n",
    "print(xflist)"
   ]
  },
  {
   "cell_type": "code",
   "execution_count": null,
   "metadata": {
    "colab": {},
    "colab_type": "code",
    "id": "2XfBrx-VcWMr"
   },
   "outputs": [],
   "source": [
    "xflist = os.listdir(wrkfol)\n",
    "xflist.sort()\n",
    "flist = []\n",
    "for fi in xflist:\n",
    "  if fi.endswith(\".jpg\"):\n",
    "    flist.append(fi)\n",
    "\n",
    "\n",
    "\n",
    "\n",
    "stig(flist,'1384495')"
   ]
  }
 ],
 "metadata": {
  "accelerator": "GPU",
  "colab": {
   "collapsed_sections": [
    "0_O906dStLrE"
   ],
   "name": "EH_ESRGAN.ipynb",
   "provenance": [
    {
     "file_id": "https://github.com/shahidul56/ESRGAN/blob/master/ESRGAN.ipynb",
     "timestamp": 1564494511698
    }
   ]
  },
  "kernelspec": {
   "display_name": "Python 3",
   "language": "python",
   "name": "python3"
  },
  "language_info": {
   "codemirror_mode": {
    "name": "ipython",
    "version": 3
   },
   "file_extension": ".py",
   "mimetype": "text/x-python",
   "name": "python",
   "nbconvert_exporter": "python",
   "pygments_lexer": "ipython3",
   "version": "3.6.8"
  }
 },
 "nbformat": 4,
 "nbformat_minor": 1
}
